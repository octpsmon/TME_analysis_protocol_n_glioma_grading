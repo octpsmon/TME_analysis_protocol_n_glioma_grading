{
 "cells": [
  {
   "cell_type": "code",
   "execution_count": 43,
   "id": "b7114557",
   "metadata": {},
   "outputs": [
    {
     "name": "stdout",
     "output_type": "stream",
     "text": [
      "Cropped and saved: /home/monika/HLA-TMA/HLA-TMA/cropped/1-2_cropped/D10.tif\n",
      "Cropped and saved: /home/monika/HLA-TMA/HLA-TMA/cropped/1-2_cropped/E15.tif\n",
      "Cropped and saved: /home/monika/HLA-TMA/HLA-TMA/cropped/1-2_cropped/A8.tif\n",
      "Cropped and saved: /home/monika/HLA-TMA/HLA-TMA/cropped/1-2_cropped/F1.tif\n",
      "Cropped and saved: /home/monika/HLA-TMA/HLA-TMA/cropped/1-2_cropped/J10.tif\n",
      "Cropped and saved: /home/monika/HLA-TMA/HLA-TMA/cropped/1-2_cropped/A12.tif\n",
      "Cropped and saved: /home/monika/HLA-TMA/HLA-TMA/cropped/1-2_cropped/B14.tif\n",
      "Cropped and saved: /home/monika/HLA-TMA/HLA-TMA/cropped/1-2_cropped/B2.tif\n",
      "Cropped and saved: /home/monika/HLA-TMA/HLA-TMA/cropped/1-2_cropped/E10.tif\n",
      "Cropped and saved: /home/monika/HLA-TMA/HLA-TMA/cropped/1-2_cropped/B13.tif\n",
      "Cropped and saved: /home/monika/HLA-TMA/HLA-TMA/cropped/1-2_cropped/A6.tif\n",
      "Cropped and saved: /home/monika/HLA-TMA/HLA-TMA/cropped/1-2_cropped/A10.tif\n",
      "Cropped and saved: /home/monika/HLA-TMA/HLA-TMA/cropped/1-2_cropped/E1.tif\n",
      "Cropped and saved: /home/monika/HLA-TMA/HLA-TMA/cropped/1-2_cropped/B4.tif\n",
      "Cropped and saved: /home/monika/HLA-TMA/HLA-TMA/cropped/1-2_cropped/C1.tif\n",
      "Cropped and saved: /home/monika/HLA-TMA/HLA-TMA/cropped/1-2_cropped/D8.tif\n",
      "Cropped and saved: /home/monika/HLA-TMA/HLA-TMA/cropped/1-2_cropped/C13.tif\n",
      "Cropped and saved: /home/monika/HLA-TMA/HLA-TMA/cropped/1-2_cropped/A7.tif\n",
      "Cropped and saved: /home/monika/HLA-TMA/HLA-TMA/cropped/1-2_cropped/F8.tif\n",
      "Center cropping finished.\n"
     ]
    }
   ],
   "source": [
    "import os\n",
    "from PIL import Image\n",
    "\n",
    "input_directory = '/home/monika/HLA-TMA/HLA-TMA/1-2'\n",
    "output_directory = '/home/monika/HLA-TMA/HLA-TMA/cropped/1-2_cropped'\n",
    "\n",
    "# Ensure the output directory exists\n",
    "if not os.path.exists(output_directory):\n",
    "    os.makedirs(output_directory)\n",
    "\n",
    "for filename in os.listdir(input_directory):\n",
    "    if \".\" not in filename:\n",
    "        continue\n",
    "    ending = filename.split(\".\")[1]\n",
    "    if ending not in [\"tif\"]:\n",
    "        continue\n",
    "\n",
    "    try:\n",
    "        image = Image.open(os.path.join(input_directory, filename))\n",
    "    except IOError as e:\n",
    "        print(\"Problem Opening\", filename, \":\", e)\n",
    "        continue\n",
    "\n",
    "    width, height = image.size\n",
    "\n",
    "    # Determine the size of the square crop (use the smaller dimension)\n",
    "    min_dimension = min(width, height)\n",
    "    left = (width - min_dimension) // 2\n",
    "    upper = (height - min_dimension) // 2\n",
    "    right = left + min_dimension\n",
    "    lower = upper + min_dimension\n",
    "\n",
    "    image = image.crop((left, upper, right, lower))\n",
    "\n",
    "    # Save the cropped image to the output directory\n",
    "    output_filename = os.path.join(output_directory, filename)\n",
    "    image.save(output_filename)\n",
    "    \n",
    "    print(f\"Cropped and saved: {output_filename}\")\n",
    "\n",
    "print(\"Center cropping finished.\")"
   ]
  },
  {
   "cell_type": "code",
   "execution_count": 35,
   "id": "ee084816",
   "metadata": {},
   "outputs": [
    {
     "name": "stdout",
     "output_type": "stream",
     "text": [
      "Image size (width x height): 1920 x 1200\n"
     ]
    }
   ],
   "source": [
    "from PIL import Image\n",
    "\n",
    "input_directory = '/home/monika/HLA-TMA/HLA-TMA/1/A1.tif'\n",
    "\n",
    "# Load the image\n",
    "try:\n",
    "    image = Image.open(input_directory)\n",
    "    width, height = image.size\n",
    "    print(f\"Image size (width x height): {width} x {height}\")\n",
    "except IOError as e:\n",
    "    print(\"Problem Opening\", input_directory, \":\", e)"
   ]
  },
  {
   "cell_type": "code",
   "execution_count": 1,
   "id": "80d3f8b8",
   "metadata": {},
   "outputs": [
    {
     "name": "stdout",
     "output_type": "stream",
     "text": [
      "Class '4_cropped': Total images = 51, 10% = 5\n",
      "Class '2_cropped': Total images = 84, 10% = 8\n",
      "Class '0_cropped': Total images = 21, 10% = 2\n",
      "Class '1_cropped': Total images = 24, 10% = 2\n",
      "Class '3_cropped': Total images = 26, 10% = 3\n"
     ]
    }
   ],
   "source": [
    "import os\n",
    "\n",
    "# Directory to scan\n",
    "directory = \"/home/monika/HLA-TMA-cropped/cropped\"\n",
    "\n",
    "# Count images in each subdirectory and calculate 10%\n",
    "image_counts = {}\n",
    "for subdir, _, files in os.walk(directory):\n",
    "    # Skip the root directory\n",
    "    if subdir == directory:\n",
    "        continue\n",
    "\n",
    "    # Count only image files (assuming common image extensions)\n",
    "    image_count = sum(1 for file in files if file.lower().endswith(('.png', '.jpg', '.jpeg', '.bmp', '.tif', '.gif')))\n",
    "    if image_count > 0:\n",
    "        # Calculate 10%\n",
    "        ten_percent = round(image_count * 0.1)\n",
    "        image_counts[os.path.basename(subdir)] = {'total_images': image_count, '10_percent': ten_percent}\n",
    "\n",
    "# Print the result\n",
    "for class_name, counts in image_counts.items():\n",
    "    print(f\"Class '{class_name}': Total images = {counts['total_images']}, 10% = {counts['10_percent']}\")"
   ]
  },
  {
   "cell_type": "code",
   "execution_count": 5,
   "id": "75ca6289",
   "metadata": {},
   "outputs": [
    {
     "name": "stdout",
     "output_type": "stream",
     "text": [
      "Image size (width x height): 1200 x 1200\n"
     ]
    }
   ],
   "source": [
    "from PIL import Image\n",
    "\n",
    "input_directory = '/home/monika/HLA-TMA-10percent_to_train/cropped/0_cropped/D9.tif'\n",
    "\n",
    "# Load the image\n",
    "try:\n",
    "    image = Image.open(input_directory)\n",
    "    width, height = image.size\n",
    "    print(f\"Image size (width x height): {width} x {height}\")\n",
    "except IOError as e:\n",
    "    print(\"Problem Opening\", input_directory, \":\", e)"
   ]
  },
  {
   "cell_type": "code",
   "execution_count": 1,
   "id": "3aab3668",
   "metadata": {},
   "outputs": [
    {
     "name": "stdout",
     "output_type": "stream",
     "text": [
      "Requirement already satisfied: opencv-python in ./miniconda3/envs/jupyter/lib/python3.11/site-packages (4.8.1.78)\r\n",
      "Requirement already satisfied: numpy>=1.21.2 in ./miniconda3/envs/jupyter/lib/python3.11/site-packages (from opencv-python) (1.26.1)\r\n"
     ]
    }
   ],
   "source": [
    "#APPLY CLAHE Contrast Limited Adaptive Histogram Equalization\n",
    "!pip install opencv-python\n",
    "\n",
    "import cv2\n",
    "import os\n",
    "import glob\n",
    "\n",
    "def apply_clahe(input_dir, output_dir):\n",
    "    if not os.path.exists(output_dir):\n",
    "        os.makedirs(output_dir)\n",
    "    \n",
    "    # Create a CLAHE object\n",
    "    clahe = cv2.createCLAHE(clipLimit=2.0, tileGridSize=(8, 8))\n",
    "    \n",
    "    # Process each sub-directory (class folder)\n",
    "    for class_folder in os.listdir(input_dir):\n",
    "        class_path = os.path.join(input_dir, class_folder)\n",
    "        if os.path.isdir(class_path):\n",
    "            output_class_dir = os.path.join(output_dir, class_folder)\n",
    "            if not os.path.exists(output_class_dir):\n",
    "                os.makedirs(output_class_dir)\n",
    "            \n",
    "            # Process each image in the class folder\n",
    "            for img_path in glob.glob(os.path.join(class_path, '*')):\n",
    "                img = cv2.imread(img_path, cv2.IMREAD_GRAYSCALE)  # read image in grayscale\n",
    "                if img is not None:\n",
    "                    img_clahe = clahe.apply(img)  # apply CLAHE\n",
    "                    output_path = os.path.join(output_class_dir, os.path.basename(img_path))\n",
    "                    cv2.imwrite(output_path, img_clahe)  # save the processed image\n",
    "\n",
    "input_directory = \"/home/monika/HLA-TMA-cropped/cropped\"\n",
    "output_directory = \"/home/monika/HLA_CLAHE\"\n",
    "\n",
    "apply_clahe(input_directory, output_directory)"
   ]
  },
  {
   "cell_type": "code",
   "execution_count": 4,
   "id": "edf1ba60",
   "metadata": {},
   "outputs": [
    {
     "name": "stdout",
     "output_type": "stream",
     "text": [
      "Adaptive thresholding applied to all images.\n"
     ]
    }
   ],
   "source": [
    "#adaptive thresholding\n",
    "import cv2\n",
    "import os\n",
    "import glob\n",
    "\n",
    "def apply_adaptive_thresholding(image_path, output_path):\n",
    "    # Read the image in grayscale\n",
    "    img = cv2.imread(image_path, cv2.IMREAD_GRAYSCALE)\n",
    "\n",
    "    # Apply adaptive thresholding\n",
    "    thresholded_img = cv2.adaptiveThreshold(\n",
    "        img, 255, cv2.ADAPTIVE_THRESH_MEAN_C, cv2.THRESH_BINARY, 11, 2)\n",
    "\n",
    "    # Save the processed image\n",
    "    cv2.imwrite(output_path, thresholded_img)\n",
    "\n",
    "def process_images(input_dir, output_dir):\n",
    "    # Check if output directory exists, if not, create it\n",
    "    if not os.path.exists(output_dir):\n",
    "        os.makedirs(output_dir)\n",
    "\n",
    "    # Iterate over all class folders\n",
    "    for class_folder in os.listdir(input_dir):\n",
    "        class_path = os.path.join(input_dir, class_folder)\n",
    "        output_class_path = os.path.join(output_dir, class_folder)\n",
    "\n",
    "        # Check if class folder in output directory exists, if not, create it\n",
    "        if not os.path.exists(output_class_path):\n",
    "            os.makedirs(output_class_path)\n",
    "\n",
    "        # Process all images in the class folder\n",
    "        for image_file in glob.glob(os.path.join(class_path, '*.tif')):\n",
    "            output_image_path = os.path.join(output_class_path, os.path.basename(image_file))\n",
    "            apply_adaptive_thresholding(image_file, output_image_path)\n",
    "\n",
    "# Define the input and output directories\n",
    "input_directory = '/home/monika/HLA-TMA-cropped/cropped'\n",
    "output_directory = '/home/monika/HLA_adaptTHRES'\n",
    "\n",
    "# Process the images\n",
    "process_images(input_directory, output_directory)\n",
    "\n",
    "print(\"Adaptive thresholding applied to all images.\")"
   ]
  },
  {
   "cell_type": "code",
   "execution_count": 5,
   "id": "8a128567",
   "metadata": {},
   "outputs": [
    {
     "name": "stdout",
     "output_type": "stream",
     "text": [
      "HSL color space conversion applied to all images.\n"
     ]
    }
   ],
   "source": [
    "import cv2\n",
    "import os\n",
    "import glob\n",
    "\n",
    "def convert_to_hsl_and_save(input_image_path, output_image_path):\n",
    "    # Read the image\n",
    "    image = cv2.imread(input_image_path)\n",
    "\n",
    "    # Convert to HSL color space\n",
    "    hsl_image = cv2.cvtColor(image, cv2.COLOR_BGR2HLS)\n",
    "\n",
    "    # Save the converted image\n",
    "    cv2.imwrite(output_image_path, hsl_image)\n",
    "\n",
    "def process_images(input_dir, output_dir):\n",
    "    # Check if the output directory exists, if not, create it\n",
    "    if not os.path.exists(output_dir):\n",
    "        os.makedirs(output_dir)\n",
    "\n",
    "    # Iterate over all class folders\n",
    "    for class_folder in os.listdir(input_dir):\n",
    "        class_path = os.path.join(input_dir, class_folder)\n",
    "        output_class_path = os.path.join(output_dir, class_folder)\n",
    "\n",
    "        # Check if class folder in output directory exists, if not, create it\n",
    "        if not os.path.exists(output_class_path):\n",
    "            os.makedirs(output_class_path)\n",
    "\n",
    "        # Process all images in the class folder\n",
    "        for image_file in glob.glob(os.path.join(class_path, '*.*')):  # Adjust the pattern as needed\n",
    "            output_image_path = os.path.join(output_class_path, os.path.basename(image_file))\n",
    "            convert_to_hsl_and_save(image_file, output_image_path)\n",
    "\n",
    "# Define the input and output directories\n",
    "input_directory = '/home/monika/HLA-TMA-cropped/cropped'\n",
    "output_directory = '/home/monika/HLA_hsl'\n",
    "\n",
    "# Process the images\n",
    "process_images(input_directory, output_directory)\n",
    "\n",
    "print(\"HSL color space conversion applied to all images.\")\n"
   ]
  },
  {
   "cell_type": "code",
   "execution_count": 6,
   "id": "211641c7",
   "metadata": {},
   "outputs": [
    {
     "name": "stdout",
     "output_type": "stream",
     "text": [
      "HSV color space conversion applied to all images.\n"
     ]
    }
   ],
   "source": [
    "import cv2\n",
    "import os\n",
    "import glob\n",
    "\n",
    "def convert_to_hsv_and_save(input_image_path, output_image_path):\n",
    "    # Read the image\n",
    "    image = cv2.imread(input_image_path)\n",
    "\n",
    "    # Convert to HSV color space\n",
    "    hsv_image = cv2.cvtColor(image, cv2.COLOR_BGR2HSV)\n",
    "\n",
    "    # Save the converted image\n",
    "    cv2.imwrite(output_image_path, hsv_image)\n",
    "\n",
    "def process_images(input_dir, output_dir):\n",
    "    # Check if the output directory exists, if not, create it\n",
    "    if not os.path.exists(output_dir):\n",
    "        os.makedirs(output_dir)\n",
    "\n",
    "    # Iterate over all class folders\n",
    "    for class_folder in os.listdir(input_dir):\n",
    "        class_path = os.path.join(input_dir, class_folder)\n",
    "        output_class_path = os.path.join(output_dir, class_folder)\n",
    "\n",
    "        # Check if class folder in output directory exists, if not, create it\n",
    "        if not os.path.exists(output_class_path):\n",
    "            os.makedirs(output_class_path)\n",
    "\n",
    "        # Process all images in the class folder\n",
    "        for image_file in glob.glob(os.path.join(class_path, '*.*')):  # Adjust the pattern as needed\n",
    "            output_image_path = os.path.join(output_class_path, os.path.basename(image_file))\n",
    "            convert_to_hsv_and_save(image_file, output_image_path)\n",
    "\n",
    "# Define the input and output directories\n",
    "input_directory = '/home/monika/HLA-TMA-cropped/cropped'\n",
    "output_directory = '/home/monika/HLA_hsv'\n",
    "\n",
    "# Process the images\n",
    "process_images(input_directory, output_directory)\n",
    "\n",
    "print(\"HSV color space conversion applied to all images.\")"
   ]
  },
  {
   "cell_type": "code",
   "execution_count": 7,
   "id": "f74601d5",
   "metadata": {},
   "outputs": [
    {
     "name": "stdout",
     "output_type": "stream",
     "text": [
      "Lab color space conversion applied to all images.\n"
     ]
    }
   ],
   "source": [
    "import cv2\n",
    "import os\n",
    "import glob\n",
    "\n",
    "def convert_to_lab_and_save(input_image_path, output_image_path):\n",
    "    # Read the image\n",
    "    image = cv2.imread(input_image_path)\n",
    "\n",
    "    # Convert to Lab color space\n",
    "    lab_image = cv2.cvtColor(image, cv2.COLOR_BGR2Lab)\n",
    "\n",
    "    # Save the converted image\n",
    "    cv2.imwrite(output_image_path, lab_image)\n",
    "\n",
    "def process_images(input_dir, output_dir):\n",
    "    # Check if the output directory exists, if not, create it\n",
    "    if not os.path.exists(output_dir):\n",
    "        os.makedirs(output_dir)\n",
    "\n",
    "    # Iterate over all class folders\n",
    "    for class_folder in os.listdir(input_dir):\n",
    "        class_path = os.path.join(input_dir, class_folder)\n",
    "        output_class_path = os.path.join(output_dir, class_folder)\n",
    "\n",
    "        # Check if class folder in output directory exists, if not, create it\n",
    "        if not os.path.exists(output_class_path):\n",
    "            os.makedirs(output_class_path)\n",
    "\n",
    "        # Process all images in the class folder\n",
    "        for image_file in glob.glob(os.path.join(class_path, '*.*')):  # Adjust the pattern as needed\n",
    "            output_image_path = os.path.join(output_class_path, os.path.basename(image_file))\n",
    "            convert_to_lab_and_save(image_file, output_image_path)\n",
    "\n",
    "# Define the input and output directories\n",
    "input_directory = '/home/monika/HLA-TMA-cropped/cropped'\n",
    "output_directory = '/home/monika/HLA_labcolor'\n",
    "\n",
    "# Process the images\n",
    "process_images(input_directory, output_directory)\n",
    "\n",
    "print(\"Lab color space conversion applied to all images.\")"
   ]
  },
  {
   "cell_type": "code",
   "execution_count": null,
   "id": "b89bd873",
   "metadata": {},
   "outputs": [],
   "source": []
  }
 ],
 "metadata": {
  "kernelspec": {
   "display_name": "Python 3 (ipykernel)",
   "language": "python",
   "name": "python3"
  },
  "language_info": {
   "codemirror_mode": {
    "name": "ipython",
    "version": 3
   },
   "file_extension": ".py",
   "mimetype": "text/x-python",
   "name": "python",
   "nbconvert_exporter": "python",
   "pygments_lexer": "ipython3",
   "version": "3.11.5"
  }
 },
 "nbformat": 4,
 "nbformat_minor": 5
}
