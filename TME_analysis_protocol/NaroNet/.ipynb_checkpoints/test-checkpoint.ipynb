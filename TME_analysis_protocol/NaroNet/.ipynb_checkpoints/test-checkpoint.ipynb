{
 "cells": [
  {
   "cell_type": "code",
   "execution_count": null,
   "metadata": {},
   "outputs": [],
   "source": [
    "import os\n",
    "import numpy as np\n",
    "import imageio\n",
    "\n",
    "def convert_tif(directory):\n",
    "    for filename in os.listdir(directory):\n",
    "        if filename.endswith('.tif'):\n",
    "            filepath = os.path.join(directory, filename)\n",
    "            with imageio.imopen(filepath) as img:\n",
    "                data = np.array(img)\n",
    "                data = data.reshape((1, data.shape[0], data.shape[1]))\n",
    "                #save the image with new shape\n",
    "                imageio.imwrite(filepath, data)\n",
    "\n",
    "#example usage\n",
    "convert_tif('path/to/directory')\n"
   ]
  }
 ],
 "metadata": {
  "kernelspec": {
   "display_name": "Python 3 (ipykernel)",
   "language": "python",
   "name": "python3"
  },
  "language_info": {
   "codemirror_mode": {
    "name": "ipython",
    "version": 3
   },
   "file_extension": ".py",
   "mimetype": "text/x-python",
   "name": "python",
   "nbconvert_exporter": "python",
   "pygments_lexer": "ipython3",
   "version": "3.10.6"
  },
  "vscode": {
   "interpreter": {
    "hash": "2d849d6914e7a0540574845fa02e0f70cdfa51fa30ed0a2de97dff8c56824699"
   }
  }
 },
 "nbformat": 4,
 "nbformat_minor": 2
}
