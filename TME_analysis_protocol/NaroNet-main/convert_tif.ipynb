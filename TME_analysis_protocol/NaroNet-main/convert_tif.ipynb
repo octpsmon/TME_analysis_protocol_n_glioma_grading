{
 "cells": [
  {
   "cell_type": "code",
   "execution_count": 6,
   "metadata": {},
   "outputs": [
    {
     "name": "stdout",
     "output_type": "stream",
     "text": [
      "Defaulting to user installation because normal site-packages is not writeable\n",
      "Collecting python-resize-image\n",
      "  Downloading python_resize_image-1.1.20-py2.py3-none-any.whl (8.4 kB)\n",
      "Requirement already satisfied: requests>=2.19.1 in /usr/lib/python3/dist-packages (from python-resize-image) (2.25.1)\n",
      "Requirement already satisfied: Pillow>=5.1.0 in /usr/lib/python3/dist-packages (from python-resize-image) (9.0.1)\n",
      "Installing collected packages: python-resize-image\n",
      "Successfully installed python-resize-image-1.1.20\n"
     ]
    }
   ],
   "source": [
    "import os\n",
    "from PIL import Image\n",
    "!pip install python-resize-image\n",
    "from resizeimage import resizeimage\n",
    "\n",
    "def convert_tif(directory):\n",
    "    for filename in os.listdir(directory):\n",
    "        if filename.endswith('.tif'):\n",
    "            filepath = os.path.join(directory, filename)\n",
    "            with open(filepath, 'r+b') as f:\n",
    "                with Image.open(f) as image:\n",
    "                    if image.size != (1200,1920):\n",
    "                        continue\n",
    "                    cover = resizeimage.resize_cover(image, [1, 1200, 1920])\n",
    "                    cover.save(filepath, image.format)\n",
    "                \n",
    "convert_tif('/home/hippo/Monika/NaroNet_Nencki/DATASET_DATA_DIR/Raw_Data-/Images_original')"
   ]
  },
  {
   "cell_type": "code",
   "execution_count": null,
   "metadata": {},
   "outputs": [],
   "source": []
  }
 ],
 "metadata": {
  "kernelspec": {
   "display_name": "Python 3 (ipykernel)",
   "language": "python",
   "name": "python3"
  },
  "language_info": {
   "codemirror_mode": {
    "name": "ipython",
    "version": 3
   },
   "file_extension": ".py",
   "mimetype": "text/x-python",
   "name": "python",
   "nbconvert_exporter": "python",
   "pygments_lexer": "ipython3",
   "version": "3.8.15 (default, Nov 24 2022, 15:19:38) \n[GCC 11.2.0]"
  },
  "vscode": {
   "interpreter": {
    "hash": "2d849d6914e7a0540574845fa02e0f70cdfa51fa30ed0a2de97dff8c56824699"
   }
  }
 },
 "nbformat": 4,
 "nbformat_minor": 2
}
